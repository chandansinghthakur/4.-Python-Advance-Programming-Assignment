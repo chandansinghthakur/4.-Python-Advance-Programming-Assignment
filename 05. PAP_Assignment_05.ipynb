{
 "cells": [
  {
   "cell_type": "markdown",
   "id": "7c18ab01",
   "metadata": {},
   "source": [
    "# <span style='color:green'>  Assignment_04 </span>"
   ]
  },
  {
   "cell_type": "markdown",
   "id": "3f5e0db2",
   "metadata": {},
   "source": [
    "***************************************************************************************************************************"
   ]
  },
  {
   "cell_type": "markdown",
   "id": "e70093f0",
   "metadata": {},
   "source": [
    "# <span style='color:red'>1. Create a function that takes a number n (integer greater than zero) as an argument, and returns 2 if n is odd and 8 if n is even.\n",
    "\n",
    "You can only use the following arithmetic operators:\n",
    "    \n",
    "```addition of numbers +, \n",
    "   subtraction of numbers -, \n",
    "   multiplication of number *, \n",
    "   division of number /, \n",
    "   exponentiation **```.\n",
    "\n",
    "You are not allowed to use any other methods in this challenge (i.e. no if statements, comparison operators, etc).\n",
    "\n",
    "Examples\n",
    "\n",
    "```f(1) ➞ 2```\n",
    "\n",
    "```f(2) ➞ 8```\n",
    "\n",
    "```f(3) ➞ 2```\n",
    " </span>"
   ]
  },
  {
   "cell_type": "code",
   "execution_count": 1,
   "id": "d09b5e68",
   "metadata": {},
   "outputs": [],
   "source": [
    "def f(n):\n",
    "    comp_list = [8,2]\n",
    "    return comp_list[n%2]"
   ]
  },
  {
   "cell_type": "code",
   "execution_count": 2,
   "id": "459ebbf0",
   "metadata": {},
   "outputs": [
    {
     "data": {
      "text/plain": [
       "2"
      ]
     },
     "execution_count": 2,
     "metadata": {},
     "output_type": "execute_result"
    }
   ],
   "source": [
    "f(1)"
   ]
  },
  {
   "cell_type": "code",
   "execution_count": 3,
   "id": "1ac5c63f",
   "metadata": {},
   "outputs": [
    {
     "data": {
      "text/plain": [
       "8"
      ]
     },
     "execution_count": 3,
     "metadata": {},
     "output_type": "execute_result"
    }
   ],
   "source": [
    "f(2)"
   ]
  },
  {
   "cell_type": "code",
   "execution_count": 4,
   "id": "f2ab17da",
   "metadata": {},
   "outputs": [
    {
     "data": {
      "text/plain": [
       "2"
      ]
     },
     "execution_count": 4,
     "metadata": {},
     "output_type": "execute_result"
    }
   ],
   "source": [
    "f(3)"
   ]
  },
  {
   "cell_type": "markdown",
   "id": "32bb1038",
   "metadata": {},
   "source": [
    "***************************************************************************************************************************"
   ]
  },
  {
   "cell_type": "markdown",
   "id": "472b0eee",
   "metadata": {},
   "source": [
    "# <span style='color:red'>2. Create a function that returns the majority vote in a list. A majority vote is an element that occurs > N/2 times in a list (where N is the length of the list).\n",
    "\n",
    "Examples\n",
    "\n",
    "majority_vote([\"A\", \"A\", \"B\"]) ➞ \"A\"\n",
    "\n",
    "majority_vote([\"A\", \"A\", \"A\", \"B\", \"C\", \"A\"]) ➞ \"A\"\n",
    "\n",
    "majority_vote([\"A\", \"B\", \"B\", \"A\", \"C\", \"C\"]) ➞ None\n",
    " </span>"
   ]
  },
  {
   "cell_type": "code",
   "execution_count": 5,
   "id": "5b2988ed",
   "metadata": {},
   "outputs": [],
   "source": [
    "def majority_vote(in_list):\n",
    "    out_list = None\n",
    "    for i in set(in_list):\n",
    "        if in_list.count(i) > len(in_list)/2 :\n",
    "            out_list = i\n",
    "    print(out_list) \n",
    "        "
   ]
  },
  {
   "cell_type": "code",
   "execution_count": 6,
   "id": "a4881852",
   "metadata": {},
   "outputs": [
    {
     "name": "stdout",
     "output_type": "stream",
     "text": [
      "A\n"
     ]
    }
   ],
   "source": [
    "majority_vote([\"A\", \"A\", \"B\"])"
   ]
  },
  {
   "cell_type": "code",
   "execution_count": 7,
   "id": "9f7bfd41",
   "metadata": {},
   "outputs": [
    {
     "name": "stdout",
     "output_type": "stream",
     "text": [
      "A\n"
     ]
    }
   ],
   "source": [
    "majority_vote([\"A\", \"A\", \"A\", \"B\", \"C\", \"A\"])"
   ]
  },
  {
   "cell_type": "code",
   "execution_count": 8,
   "id": "cf651282",
   "metadata": {},
   "outputs": [
    {
     "name": "stdout",
     "output_type": "stream",
     "text": [
      "None\n"
     ]
    }
   ],
   "source": [
    "majority_vote([\"A\", \"B\", \"B\", \"A\", \"C\", \"C\"])"
   ]
  },
  {
   "cell_type": "markdown",
   "id": "d43d31ad",
   "metadata": {},
   "source": [
    "***************************************************************************************************************************"
   ]
  },
  {
   "cell_type": "markdown",
   "id": "97bd427a",
   "metadata": {},
   "source": [
    "# <span style='color:red'>3. Create a function that takes a string txt and censors any word from a given list lst. The text removed must be replaced by the given character char.\n",
    "\n",
    "Examples\n",
    "\n",
    "censor_string(\"Today is a Wednesday!\", [\"Today\", \"a\"], \"-\") ➞ \"----- is - Wednesday!\"\n",
    "\n",
    "censor_string(\"The cow jumped over the moon.\", [\"cow\", \"over\"], \"*\"), \"The *** jumped **** the moon.\")\n",
    "\n",
    "censor_string(\"Why did the chicken cross the road?\", [\"Did\", \"chicken\", \"road\"], \"*\") ➞ \"Why *** the ******* cross the ****?\"\n",
    " </span>"
   ]
  },
  {
   "cell_type": "code",
   "execution_count": 9,
   "id": "66b2d06a",
   "metadata": {},
   "outputs": [],
   "source": [
    "def censor_string(in_string, in_list, replace_char):\n",
    "    out_string=[]\n",
    "    for i in in_string.split():\n",
    "        if i.title() in in_list or i.lower() in in_list or i.upper() in in_list :\n",
    "            out_string.append(replace_char*len(i))\n",
    "        else:\n",
    "            out_string.append(i)\n",
    "    return ' '.join(out_string)"
   ]
  },
  {
   "cell_type": "code",
   "execution_count": 10,
   "id": "0c776eca",
   "metadata": {},
   "outputs": [
    {
     "data": {
      "text/plain": [
       "'----- is - Wednesday!'"
      ]
     },
     "execution_count": 10,
     "metadata": {},
     "output_type": "execute_result"
    }
   ],
   "source": [
    "censor_string(\"Today is a Wednesday!\", [\"Today\", \"a\"], \"-\")"
   ]
  },
  {
   "cell_type": "code",
   "execution_count": 11,
   "id": "93deeedf",
   "metadata": {},
   "outputs": [
    {
     "data": {
      "text/plain": [
       "'The *** jumped **** the moon.'"
      ]
     },
     "execution_count": 11,
     "metadata": {},
     "output_type": "execute_result"
    }
   ],
   "source": [
    "censor_string(\"The cow jumped over the moon.\", [\"cow\", \"over\"], \"*\")"
   ]
  },
  {
   "cell_type": "code",
   "execution_count": 12,
   "id": "c2edfb86",
   "metadata": {},
   "outputs": [
    {
     "data": {
      "text/plain": [
       "'Why *** the ******* cross the road?'"
      ]
     },
     "execution_count": 12,
     "metadata": {},
     "output_type": "execute_result"
    }
   ],
   "source": [
    "censor_string(\"Why did the chicken cross the road?\", [\"Did\", \"chicken\", \"road\"], \"*\")"
   ]
  },
  {
   "cell_type": "markdown",
   "id": "4910dcdf",
   "metadata": {},
   "source": [
    "***************************************************************************************************************************"
   ]
  },
  {
   "cell_type": "markdown",
   "id": "368993b7",
   "metadata": {},
   "source": [
    "# <span style='color:red'> 4. In mathematics a Polydivisible Number (or magic number) is a number in a given number base with digits abcde... that has the following properties:\n",
    "\n",
    "-  Its first digit a is not 0.\n",
    "- The number formed by its first two digits ab is a multiple of 2.\n",
    "- The number formed by its first three digits abc is a multiple of 3.\n",
    "- The number formed by its first four digits abcd is a multiple of 4.\n",
    "\n",
    "Create a function which takes an integer n and returns True if the given number is a Polydivisible Number and False otherwise.\n",
    "\n",
    "Examples\n",
    "\n",
    "is_polydivisible(1232) ➞ True\n",
    "# 1     / 1 = 1\n",
    "# 12    / 2 = 6\n",
    "# 123   / 3 = 41\n",
    "# 1232  / 4 = 308\n",
    "\n",
    "is_polydivisible(123220 ) ➞ False\n",
    "# 1   / 1 = 1\n",
    "# 12   / 2 = 6\n",
    "# 123   / 3 = 41\n",
    "# 1232   / 4 = 308\n",
    "# 12322   / 5 = 2464.4         # Not a Whole Number\n",
    "# 123220   /6 = 220536.333...  # Not a Whole Number\n",
    "</span>"
   ]
  },
  {
   "cell_type": "code",
   "execution_count": 13,
   "id": "54c7bb74",
   "metadata": {},
   "outputs": [],
   "source": [
    "def is_polydivisible(n):\n",
    "    n1 = str(n)\n",
    "    output = False\n",
    "    for i in range(len(n1)):\n",
    "        if int(n1[:i+1])%(i+1)==0:\n",
    "            output = True\n",
    "        else:\n",
    "            output = False\n",
    "            break\n",
    "    return output"
   ]
  },
  {
   "cell_type": "code",
   "execution_count": 14,
   "id": "b7fe1e13",
   "metadata": {},
   "outputs": [
    {
     "data": {
      "text/plain": [
       "True"
      ]
     },
     "execution_count": 14,
     "metadata": {},
     "output_type": "execute_result"
    }
   ],
   "source": [
    "is_polydivisible(1232)"
   ]
  },
  {
   "cell_type": "code",
   "execution_count": 15,
   "id": "3c1770ae",
   "metadata": {},
   "outputs": [
    {
     "data": {
      "text/plain": [
       "False"
      ]
     },
     "execution_count": 15,
     "metadata": {},
     "output_type": "execute_result"
    }
   ],
   "source": [
    "is_polydivisible(123220)"
   ]
  },
  {
   "cell_type": "markdown",
   "id": "3065ada6",
   "metadata": {},
   "source": [
    "***************************************************************************************************************************"
   ]
  },
  {
   "cell_type": "markdown",
   "id": "ec5db2f1",
   "metadata": {},
   "source": [
    "# <span style='color:red'>5. Create a function that takes a list of numbers and returns the sum of all prime numbers in the list.\n",
    "\n",
    "Examples\n",
    "\n",
    "sum_primes([1, 2, 3, 4, 5, 6, 7, 8, 9, 10]) ➞ 17\n",
    "\n",
    "sum_primes([2, 3, 4, 11, 20, 50, 71]) ➞ 87\n",
    "\n",
    "sum_primes([]) ➞ None\n",
    " </span>"
   ]
  },
  {
   "cell_type": "code",
   "execution_count": 16,
   "id": "966200da",
   "metadata": {},
   "outputs": [],
   "source": [
    "def sum_primes(in_list):\n",
    "    out_list=[]\n",
    "    for i in in_list:\n",
    "        if i == 0 or i ==1 :\n",
    "            continue\n",
    "            \n",
    "        for j in range(2, i//2+1):\n",
    "            if i%j==0:\n",
    "                break\n",
    "        else:\n",
    "            out_list.append(i)\n",
    "    if len(out_list):\n",
    "        print(sum(out_list))\n",
    "    else:\n",
    "        print(None)"
   ]
  },
  {
   "cell_type": "code",
   "execution_count": 17,
   "id": "ae325aa3",
   "metadata": {},
   "outputs": [
    {
     "name": "stdout",
     "output_type": "stream",
     "text": [
      "17\n"
     ]
    }
   ],
   "source": [
    "sum_primes([1, 2, 3, 4, 5, 6, 7, 8, 9, 10])"
   ]
  },
  {
   "cell_type": "code",
   "execution_count": 18,
   "id": "f0b890b7",
   "metadata": {},
   "outputs": [
    {
     "name": "stdout",
     "output_type": "stream",
     "text": [
      "87\n"
     ]
    }
   ],
   "source": [
    "sum_primes([2, 3, 4, 11, 20, 50, 71])"
   ]
  },
  {
   "cell_type": "code",
   "execution_count": 19,
   "id": "f52fac40",
   "metadata": {},
   "outputs": [
    {
     "name": "stdout",
     "output_type": "stream",
     "text": [
      "None\n"
     ]
    }
   ],
   "source": [
    "sum_primes([])"
   ]
  },
  {
   "cell_type": "code",
   "execution_count": null,
   "id": "1c036b49",
   "metadata": {},
   "outputs": [],
   "source": []
  }
 ],
 "metadata": {
  "kernelspec": {
   "display_name": "Python 3 (ipykernel)",
   "language": "python",
   "name": "python3"
  },
  "language_info": {
   "codemirror_mode": {
    "name": "ipython",
    "version": 3
   },
   "file_extension": ".py",
   "mimetype": "text/x-python",
   "name": "python",
   "nbconvert_exporter": "python",
   "pygments_lexer": "ipython3",
   "version": "3.9.7"
  }
 },
 "nbformat": 4,
 "nbformat_minor": 5
}
